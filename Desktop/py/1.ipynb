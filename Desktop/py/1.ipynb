{
 "cells": [
  {
   "cell_type": "code",
   "execution_count": 1,
   "metadata": {},
   "outputs": [],
   "source": [
    "import cv2\n",
    "import numpy as np\n",
    "from matplotlib import pyplot as plt\n",
    "img = cv2.imread('img/r.jpg',0)\n",
    "m,n=img.shape\n",
    "img = cv2.resize(img, dsize=(700, 700))\n",
    "cv2.imshow(\"mohsen\",img)\n",
    "key=cv2.waitKey(0)\n",
    "if key==27:\n",
    "    cv2.destroyWindow\n",
    "elif key==ord(\"s\"):\n",
    "    cv2.imwrite(\"aaa.png\",img)\n",
    "    cv2.destroyAllWindows\n",
    "#plt.subplot(121),plt.imshow(img,cmap = 'gray')\n",
    "#plt.title('Original Image')\n",
    "print(img.shape)\n"
   ]
  }
 ],
 "metadata": {
  "kernelspec": {
   "display_name": "base",
   "language": "python",
   "name": "python3"
  },
  "language_info": {
   "codemirror_mode": {
    "name": "ipython",
    "version": 3
   },
   "file_extension": ".py",
   "mimetype": "text/x-python",
   "name": "python",
   "nbconvert_exporter": "python",
   "pygments_lexer": "ipython3",
   "version": "3.12.2"
  }
 },
 "nbformat": 4,
 "nbformat_minor": 2
}
